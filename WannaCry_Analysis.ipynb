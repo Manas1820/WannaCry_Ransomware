{
  "nbformat": 4,
  "nbformat_minor": 0,
  "metadata": {
    "colab": {
      "name": "WannaCry Analysis.ipynb",
      "provenance": [],
      "authorship_tag": "ABX9TyMhVyg8LH5i8kyzVaBxuOkf",
      "include_colab_link": true
    },
    "kernelspec": {
      "name": "python3",
      "display_name": "Python 3"
    },
    "language_info": {
      "name": "python"
    },
    "accelerator": "GPU"
  },
  "cells": [
    {
      "cell_type": "markdown",
      "metadata": {
        "id": "view-in-github",
        "colab_type": "text"
      },
      "source": [
        "<a href=\"https://colab.research.google.com/github/Manas1820/WannaCry_Ransomware/blob/main/WannaCry_Analysis.ipynb\" target=\"_parent\"><img src=\"https://colab.research.google.com/assets/colab-badge.svg\" alt=\"Open In Colab\"/></a>"
      ]
    },
    {
      "cell_type": "code",
      "execution_count": 6,
      "metadata": {
        "id": "U_2tzstqjgC5"
      },
      "outputs": [],
      "source": [
        "import pandas as pd\n",
        "import matplotlib.pyplot as plt\n",
        "from sklearn.model_selection import train_test_split\n",
        "from keras.layers import Input, Dense\n",
        "from keras import regularizers\n",
        "from keras.models import Model, load_model\n",
        "from keras.callbacks import ModelCheckpoint\n",
        "import numpy as np\n",
        "import tensorflow as tf\n",
        "import sys\n",
        "from sklearn.metrics import (confusion_matrix, precision_recall_curve, auc,roc_curve, recall_score, classification_report, f1_score,precision_recall_fscore_support)"
      ]
    },
    {
      "cell_type": "code",
      "source": [
        "# Retrieve and prepare data\n",
        "wannacry_data = pd.read_csv(\"https://raw.githubusercontent.com/Manas1820/WannaCry_Ransomware/main/Dataset/wannacry.csv\")\n",
        "benign_data = pd.read_csv(\"https://raw.githubusercontent.com/Manas1820/WannaCry_Ransomware/main/Dataset/malacious_data.csv\").sample(frac = 1)\n",
        "malware_data = pd.read_csv(\"https://raw.githubusercontent.com/Manas1820/WannaCry_Ransomware/main/Dataset/malware_data.csv\").sample(frac = 1)\n",
        "malware_train, malware_test = train_test_split(malware_data, test_size = 0.08)"
      ],
      "metadata": {
        "id": "XKLqUyg9JIis"
      },
      "execution_count": 7,
      "outputs": []
    },
    {
      "cell_type": "code",
      "source": [
        "# Autoencoder design\n",
        "input_dim = malware_train.shape[1]\n",
        "input_layer = Input(shape=(input_dim, ))\n",
        "nodes_number = 17\n",
        "while (nodes_number>=3):\n",
        "    if nodes_number == 17:\n",
        "        layer = Dense(nodes_number, activation='tanh')(input_layer)\n",
        "    else:\n",
        "        layer = Dense(nodes_number, activation='tanh')(layer)\n",
        "    nodes_number=nodes_number-2\n",
        "nodes_number=5\n",
        "while(nodes_number<=17):\n",
        "    layer = Dense(nodes_number, activation='tanh')(layer)\n",
        "    nodes_number=nodes_number+2\n",
        "output_layer = Dense(input_dim, activation='tanh')(layer)\n",
        "autoencoder = Model(inputs=input_layer, outputs=output_layer)\n",
        "\n",
        "nb_epoch = 10\n",
        "batch_size = 18\n",
        "autoencoder.compile(optimizer='adam', loss='mean_squared_error', metrics=['accuracy'])\n",
        "checkpointer = ModelCheckpoint(filepath=\"autoencoder.h5\", verbose=0, save_best_only=True)"
      ],
      "metadata": {
        "id": "r0cTds8rKbCL"
      },
      "execution_count": 8,
      "outputs": []
    },
    {
      "cell_type": "code",
      "source": [
        "history = autoencoder.fit(malware_train, malware_train, epochs=nb_epoch, batch_size=batch_size, shuffle=True, validation_data=(malware_test, malware_test), verbose=1, callbacks=[checkpointer]).history\n",
        "autoencoder = load_model('autoencoder.h5')\n",
        "\n",
        "predictions_malware = autoencoder.predict(malware_test)\n",
        "mse_malware = np.mean(np.power(malware_test - predictions_malware, 2), axis=1)\n",
        "\n",
        "predictions_benign_data = autoencoder.predict(benign_data)\n",
        "mse_benign = np.mean(np.power(benign_data - predictions_benign_data, 2), axis=1)\n",
        "\n",
        "predictions_wannacry_data = autoencoder.predict(wannacry_data)\n",
        "mse_wannacry_data = np.mean(np.power(wannacry_data - predictions_wannacry_data, 2), axis=1)\n",
        "\n",
        "threshold = np.average(mse_malware)"
      ],
      "metadata": {
        "colab": {
          "base_uri": "https://localhost:8080/"
        },
        "id": "U4KaqIjweBr2",
        "outputId": "bf4f0073-bdfb-4999-8933-dd36ffb2fe01"
      },
      "execution_count": 5,
      "outputs": [
        {
          "output_type": "stream",
          "name": "stdout",
          "text": [
            "Epoch 1/20\n",
            "310/310 [==============================] - 2s 5ms/step - loss: 11462674.0000 - accuracy: 0.5363 - val_loss: 12023563.0000 - val_accuracy: 0.5402\n",
            "Epoch 2/20\n",
            "310/310 [==============================] - 3s 9ms/step - loss: 11462677.0000 - accuracy: 0.5363 - val_loss: 12023563.0000 - val_accuracy: 0.5402\n",
            "Epoch 3/20\n",
            "310/310 [==============================] - 2s 7ms/step - loss: 11462674.0000 - accuracy: 0.5363 - val_loss: 12023563.0000 - val_accuracy: 0.5402\n",
            "Epoch 4/20\n",
            "310/310 [==============================] - 2s 5ms/step - loss: 11462674.0000 - accuracy: 0.5363 - val_loss: 12023563.0000 - val_accuracy: 0.5402\n",
            "Epoch 5/20\n",
            "310/310 [==============================] - 2s 6ms/step - loss: 11462680.0000 - accuracy: 0.5363 - val_loss: 12023563.0000 - val_accuracy: 0.5402\n",
            "Epoch 6/20\n",
            "310/310 [==============================] - 2s 5ms/step - loss: 11462679.0000 - accuracy: 0.5363 - val_loss: 12023563.0000 - val_accuracy: 0.5402\n",
            "Epoch 7/20\n",
            "310/310 [==============================] - 2s 6ms/step - loss: 11462680.0000 - accuracy: 0.5363 - val_loss: 12023563.0000 - val_accuracy: 0.5402\n",
            "Epoch 8/20\n",
            "310/310 [==============================] - 2s 6ms/step - loss: 11462677.0000 - accuracy: 0.5363 - val_loss: 12023563.0000 - val_accuracy: 0.5402\n",
            "Epoch 9/20\n",
            "310/310 [==============================] - 2s 6ms/step - loss: 11462675.0000 - accuracy: 0.5363 - val_loss: 12023563.0000 - val_accuracy: 0.5402\n",
            "Epoch 10/20\n",
            "310/310 [==============================] - 2s 6ms/step - loss: 11462672.0000 - accuracy: 0.5363 - val_loss: 12023563.0000 - val_accuracy: 0.5402\n",
            "Epoch 11/20\n",
            "310/310 [==============================] - 2s 5ms/step - loss: 11462678.0000 - accuracy: 0.5363 - val_loss: 12023563.0000 - val_accuracy: 0.5402\n",
            "Epoch 12/20\n",
            "310/310 [==============================] - 2s 5ms/step - loss: 11462677.0000 - accuracy: 0.5363 - val_loss: 12023563.0000 - val_accuracy: 0.5402\n",
            "Epoch 13/20\n",
            "310/310 [==============================] - 2s 5ms/step - loss: 11462677.0000 - accuracy: 0.5363 - val_loss: 12023563.0000 - val_accuracy: 0.5402\n",
            "Epoch 14/20\n",
            "310/310 [==============================] - 2s 6ms/step - loss: 11462682.0000 - accuracy: 0.5363 - val_loss: 12023563.0000 - val_accuracy: 0.5402\n",
            "Epoch 15/20\n",
            "310/310 [==============================] - 2s 6ms/step - loss: 11462677.0000 - accuracy: 0.5363 - val_loss: 12023563.0000 - val_accuracy: 0.5402\n",
            "Epoch 16/20\n",
            "310/310 [==============================] - 2s 5ms/step - loss: 11462680.0000 - accuracy: 0.5363 - val_loss: 12023563.0000 - val_accuracy: 0.5402\n",
            "Epoch 17/20\n",
            "310/310 [==============================] - 2s 5ms/step - loss: 11462680.0000 - accuracy: 0.5363 - val_loss: 12023563.0000 - val_accuracy: 0.5402\n",
            "Epoch 18/20\n",
            "310/310 [==============================] - 2s 6ms/step - loss: 11462681.0000 - accuracy: 0.5363 - val_loss: 12023563.0000 - val_accuracy: 0.5402\n",
            "Epoch 19/20\n",
            "310/310 [==============================] - 2s 6ms/step - loss: 11462676.0000 - accuracy: 0.5363 - val_loss: 12023563.0000 - val_accuracy: 0.5402\n",
            "Epoch 20/20\n",
            "310/310 [==============================] - 2s 6ms/step - loss: 11462680.0000 - accuracy: 0.5363 - val_loss: 12023563.0000 - val_accuracy: 0.5402\n"
          ]
        }
      ]
    },
    {
      "cell_type": "code",
      "source": [
        "acc=0\n",
        "rec = 0\n",
        "\n",
        "# fine tune the threshold if needed\n",
        "while rec<.6 or acc<.6 :\n",
        "    threshold = threshold - 0.0001\n",
        "    print(threshold)\n",
        "    TP,FP,TN,FN=0,0,0,0\n",
        "    for e in mse_malware:\n",
        "        if e<threshold:\n",
        "            TP+=1\n",
        "        else:\n",
        "            FN+=1\n",
        "    for e in mse_benign:\n",
        "        if e>=threshold:\n",
        "            TN+=1\n",
        "        else:\n",
        "            FP+=1\n",
        "    try:\n",
        "        acc = 1.*(TP+TN)/(TP+TN+FP+FN)\n",
        "        rec = 1.*(TP)/(TP+FN)\n",
        "        prec = 1. * TP / (TP + FP)\n",
        "        print (f\"TP:{TP}\\nFP:{FP}\\nTN:{TN}\\nFN:{FN}\")\n",
        "        print (f\"Accuracy: {acc}\\nRecall: {rec}\\nPrecision: {prec}\")\n",
        "    except:\n",
        "        pass"
      ],
      "metadata": {
        "colab": {
          "base_uri": "https://localhost:8080/"
        },
        "id": "Vla0WTH3en7A",
        "outputId": "b0c7fb37-243e-4db6-8fda-5b1a5f6f022c"
      },
      "execution_count": 9,
      "outputs": [
        {
          "output_type": "stream",
          "name": "stdout",
          "text": [
            "12023563.338388078\n",
            "TP:439\n",
            "FP:234\n",
            "TN:138\n",
            "FN:46\n",
            "Accuracy: 0.6732788798133023\n",
            "Recall: 0.9051546391752577\n",
            "Precision: 0.6523031203566122\n"
          ]
        }
      ]
    }
  ]
}